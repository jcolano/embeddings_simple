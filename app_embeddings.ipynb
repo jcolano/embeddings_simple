{
 "cells": [
  {
   "cell_type": "code",
   "execution_count": null,
   "metadata": {},
   "outputs": [],
   "source": [
    "import pandas as pd"
   ]
  },
  {
   "cell_type": "code",
   "execution_count": null,
   "metadata": {},
   "outputs": [],
   "source": [
    "csv_file_path = 'dataset.csv'\n",
    "\n",
    "# Read the CSV file into a DataFrame\n",
    "df = pd.read_csv(csv_file_path)"
   ]
  },
  {
   "cell_type": "code",
   "execution_count": 4,
   "metadata": {},
   "outputs": [
    {
     "data": {
      "text/plain": [
       "Index(['PROD_ID', 'PROD_NAME', 'PROD_BRAND', 'PROD_LINK', 'PROD_IMAGE_URL',\n",
       "       'PROD_CATEGORY', 'PROD_PRICE', 'PROD_DESCRIPTION'],\n",
       "      dtype='object')"
      ]
     },
     "execution_count": 4,
     "metadata": {},
     "output_type": "execute_result"
    }
   ],
   "source": [
    "df.columns "
   ]
  },
  {
   "attachments": {},
   "cell_type": "markdown",
   "metadata": {},
   "source": [
    "Explore the PROD_DESCRIPTION column.\n",
    "\n",
    "Lets see how many rows per length we have:"
   ]
  },
  {
   "cell_type": "code",
   "execution_count": 6,
   "metadata": {},
   "outputs": [
    {
     "name": "stdout",
     "output_type": "stream",
     "text": [
      "2794    1\n",
      "2791    1\n",
      "2765    1\n",
      "2610    1\n",
      "2584    1\n",
      "       ..\n",
      "62      2\n",
      "61      1\n",
      "56      3\n",
      "55      6\n",
      "2       3\n",
      "Name: PROD_DESCRIPTION, Length: 1126, dtype: int64\n"
     ]
    }
   ],
   "source": [
    "# Calculate the length distribution of the strings in the PROD_DESCRIPTION column\n",
    "length_distribution = df['PROD_DESCRIPTION'].str.len().value_counts().sort_index(ascending=False)\n",
    "\n",
    "# Display the length distribution\n",
    "print(length_distribution)"
   ]
  },
  {
   "attachments": {},
   "cell_type": "markdown",
   "metadata": {},
   "source": [
    "Lets group in ranges of 100 to see how many rows are there per group:\n",
    "\n",
    "We can see that we have 23 rows with length between 0 and 100 characters, etc."
   ]
  },
  {
   "cell_type": "code",
   "execution_count": 7,
   "metadata": {},
   "outputs": [
    {
     "name": "stdout",
     "output_type": "stream",
     "text": [
      "(0, 100]         23\n",
      "(100, 200]       78\n",
      "(200, 300]      217\n",
      "(300, 400]      412\n",
      "(400, 500]      546\n",
      "(500, 600]      616\n",
      "(600, 700]      617\n",
      "(700, 800]      518\n",
      "(800, 900]      443\n",
      "(900, 1000]     305\n",
      "(1000, 1100]    234\n",
      "(1100, 1200]    175\n",
      "(1200, 1300]    138\n",
      "(1300, 1400]     72\n",
      "(1400, 1500]     44\n",
      "(1500, 1600]     36\n",
      "(1600, 1700]     24\n",
      "(1700, 1800]      8\n",
      "(1800, 1900]     20\n",
      "(1900, 2000]     14\n",
      "(2000, 2100]      3\n",
      "(2100, 2200]     14\n",
      "(2200, 2300]      2\n",
      "(2300, 2400]      1\n",
      "(2400, 2500]      9\n",
      "(2500, 2600]      1\n",
      "(2600, 2700]      1\n",
      "(2700, 2800]      3\n",
      "Name: PROD_DESCRIPTION, dtype: int64\n"
     ]
    }
   ],
   "source": [
    "# Calculate the length of the strings in the PROD_DESCRIPTION column\n",
    "lengths = df['PROD_DESCRIPTION'].str.len()\n",
    "\n",
    "# Define the bins (ranges) for grouping\n",
    "bins = range(0, max(lengths) + 100, 100)\n",
    "\n",
    "# Group the lengths into the defined bins\n",
    "grouped_lengths = pd.cut(lengths, bins=bins).value_counts().sort_index()\n",
    "\n",
    "# Display the length distribution grouped by ranges of 100\n",
    "print(grouped_lengths)"
   ]
  },
  {
   "attachments": {},
   "cell_type": "markdown",
   "metadata": {},
   "source": [
    "### SEMANTIC SEARCH USING EMBEDDINGS\n",
    "\n",
    "To perform a semantic search using embeddings, we can use the 'Sentence Transformers' library to convert the product descriptions into embeddings and then search for similar descriptions. The Sentence Transformers library utilizes pre-trained models from the Hugging Face library to generate embeddings for sentences."
   ]
  },
  {
   "attachments": {},
   "cell_type": "markdown",
   "metadata": {},
   "source": [
    "#### Load the necessary libraries"
   ]
  },
  {
   "cell_type": "code",
   "execution_count": 8,
   "metadata": {},
   "outputs": [],
   "source": [
    "\n",
    "# If not available, we can install this library with the following command: pip install sentence-transformers\n",
    "from sentence_transformers import SentenceTransformer\n",
    "from sklearn.metrics.pairwise import cosine_similarity"
   ]
  },
  {
   "cell_type": "code",
   "execution_count": 9,
   "metadata": {},
   "outputs": [
    {
     "data": {
      "application/vnd.jupyter.widget-view+json": {
       "model_id": "dbf9e7fef460460e8e7436298c031d79",
       "version_major": 2,
       "version_minor": 0
      },
      "text/plain": [
       "Downloading (…)7f4ef/.gitattributes:   0%|          | 0.00/391 [00:00<?, ?B/s]"
      ]
     },
     "metadata": {},
     "output_type": "display_data"
    },
    {
     "data": {
      "application/vnd.jupyter.widget-view+json": {
       "model_id": "bea8139b6565485ab2e9b43d036c5a77",
       "version_major": 2,
       "version_minor": 0
      },
      "text/plain": [
       "Downloading (…)_Pooling/config.json:   0%|          | 0.00/190 [00:00<?, ?B/s]"
      ]
     },
     "metadata": {},
     "output_type": "display_data"
    },
    {
     "data": {
      "application/vnd.jupyter.widget-view+json": {
       "model_id": "8f2914e0533e4c299e9b7f33ae8b3cef",
       "version_major": 2,
       "version_minor": 0
      },
      "text/plain": [
       "Downloading (…)f279f7f4ef/README.md:   0%|          | 0.00/3.74k [00:00<?, ?B/s]"
      ]
     },
     "metadata": {},
     "output_type": "display_data"
    },
    {
     "data": {
      "application/vnd.jupyter.widget-view+json": {
       "model_id": "0d308290b8fa47deadb3627a01309f4a",
       "version_major": 2,
       "version_minor": 0
      },
      "text/plain": [
       "Downloading (…)79f7f4ef/config.json:   0%|          | 0.00/718 [00:00<?, ?B/s]"
      ]
     },
     "metadata": {},
     "output_type": "display_data"
    },
    {
     "data": {
      "application/vnd.jupyter.widget-view+json": {
       "model_id": "efde731c80b544ae86b7add0f64fde56",
       "version_major": 2,
       "version_minor": 0
      },
      "text/plain": [
       "Downloading (…)ce_transformers.json:   0%|          | 0.00/122 [00:00<?, ?B/s]"
      ]
     },
     "metadata": {},
     "output_type": "display_data"
    },
    {
     "data": {
      "application/vnd.jupyter.widget-view+json": {
       "model_id": "2056c2fb4d304a80a8971d9787f15123",
       "version_major": 2,
       "version_minor": 0
      },
      "text/plain": [
       "Downloading (…)279f7f4ef/merges.txt:   0%|          | 0.00/456k [00:00<?, ?B/s]"
      ]
     },
     "metadata": {},
     "output_type": "display_data"
    },
    {
     "data": {
      "application/vnd.jupyter.widget-view+json": {
       "model_id": "75c0772045594dc6aa857558e6b61d47",
       "version_major": 2,
       "version_minor": 0
      },
      "text/plain": [
       "Downloading pytorch_model.bin:   0%|          | 0.00/329M [00:00<?, ?B/s]"
      ]
     },
     "metadata": {},
     "output_type": "display_data"
    },
    {
     "data": {
      "application/vnd.jupyter.widget-view+json": {
       "model_id": "097baeaf7acd4256bd6e785001108963",
       "version_major": 2,
       "version_minor": 0
      },
      "text/plain": [
       "Downloading (…)nce_bert_config.json:   0%|          | 0.00/53.0 [00:00<?, ?B/s]"
      ]
     },
     "metadata": {},
     "output_type": "display_data"
    },
    {
     "data": {
      "application/vnd.jupyter.widget-view+json": {
       "model_id": "2e9bff18024148e5a1c7df7781bf7f7e",
       "version_major": 2,
       "version_minor": 0
      },
      "text/plain": [
       "Downloading (…)cial_tokens_map.json:   0%|          | 0.00/239 [00:00<?, ?B/s]"
      ]
     },
     "metadata": {},
     "output_type": "display_data"
    },
    {
     "data": {
      "application/vnd.jupyter.widget-view+json": {
       "model_id": "bff5a326bc344545a34d4628837bf826",
       "version_major": 2,
       "version_minor": 0
      },
      "text/plain": [
       "Downloading (…)7f4ef/tokenizer.json:   0%|          | 0.00/1.36M [00:00<?, ?B/s]"
      ]
     },
     "metadata": {},
     "output_type": "display_data"
    },
    {
     "data": {
      "application/vnd.jupyter.widget-view+json": {
       "model_id": "a1470972dc8f451facecbb4bd7a23bf5",
       "version_major": 2,
       "version_minor": 0
      },
      "text/plain": [
       "Downloading (…)okenizer_config.json:   0%|          | 0.00/1.35k [00:00<?, ?B/s]"
      ]
     },
     "metadata": {},
     "output_type": "display_data"
    },
    {
     "data": {
      "application/vnd.jupyter.widget-view+json": {
       "model_id": "1b4f0d1d3902459da6ce89a64d32dffe",
       "version_major": 2,
       "version_minor": 0
      },
      "text/plain": [
       "Downloading (…)279f7f4ef/vocab.json:   0%|          | 0.00/798k [00:00<?, ?B/s]"
      ]
     },
     "metadata": {},
     "output_type": "display_data"
    },
    {
     "data": {
      "application/vnd.jupyter.widget-view+json": {
       "model_id": "7ceb3d45466d441589ce6c8eb0060439",
       "version_major": 2,
       "version_minor": 0
      },
      "text/plain": [
       "Downloading (…)9f7f4ef/modules.json:   0%|          | 0.00/229 [00:00<?, ?B/s]"
      ]
     },
     "metadata": {},
     "output_type": "display_data"
    }
   ],
   "source": [
    "# Initialize a pre-trained Sentence Transformer model\n",
    "model = SentenceTransformer('paraphrase-distilroberta-base-v1')"
   ]
  },
  {
   "attachments": {},
   "cell_type": "markdown",
   "metadata": {},
   "source": [
    "#### Calculate the embeddings for the PROD_DESCRIPTION column\n",
    "\n",
    "This process may take a few minutes for our current dataset.  In my computer it took almost 3 minutes."
   ]
  },
  {
   "cell_type": "code",
   "execution_count": 13,
   "metadata": {},
   "outputs": [],
   "source": [
    "import os \n",
    "import numpy as np\n",
    "\n",
    "descriptions = df['PROD_DESCRIPTION'].tolist()\n",
    "embeddings_file = 'description_embeddings.npy'\n",
    "\n",
    "# Check if the embeddings file exists, if not, calculate and save the embeddings\n",
    "if not os.path.exists(embeddings_file):\n",
    "    description_embeddings = model.encode(descriptions)\n",
    "    np.save(embeddings_file, description_embeddings)\n",
    "else:\n",
    "    # Load the saved embeddings\n",
    "    description_embeddings = np.load(embeddings_file)"
   ]
  },
  {
   "attachments": {},
   "cell_type": "markdown",
   "metadata": {},
   "source": [
    "### Ask our embeddings database!"
   ]
  },
  {
   "cell_type": "code",
   "execution_count": 14,
   "metadata": {},
   "outputs": [],
   "source": [
    "# Define the query and calculate its embedding\n",
    "query = \"What are the products that include banana?\"\n",
    "query_embedding = model.encode([query])"
   ]
  },
  {
   "cell_type": "code",
   "execution_count": 15,
   "metadata": {},
   "outputs": [],
   "source": [
    "# Compute cosine similarity between the query embedding and all description embeddings\n",
    "similarities = cosine_similarity(query_embedding, description_embeddings)"
   ]
  },
  {
   "cell_type": "code",
   "execution_count": 18,
   "metadata": {},
   "outputs": [
    {
     "name": "stdout",
     "output_type": "stream",
     "text": [
      "[1728 3802 3937 3701 1926]\n"
     ]
    }
   ],
   "source": [
    "# Find the indices of the top 5 most similar descriptions\n",
    "top_n = 5\n",
    "top_n_indices = similarities[0].argsort()[-top_n:][::-1]\n",
    "print(top_n_indices)"
   ]
  },
  {
   "cell_type": "code",
   "execution_count": 19,
   "metadata": {},
   "outputs": [
    {
     "name": "stdout",
     "output_type": "stream",
     "text": [
      "Product ID: 1728, Description: Porridge (oatmeal) with banana and poppy seeds Rarely does banana appear so natural and yet so delicious in the breakfast bowl. Let Mohnige Banana sweeten your morning with dried, fruity bananas and a delicious poppy seed crunch! By the way: Our banana flakes come from Ecuador, where the fully ripe bananas are peeled by hand and then gently dried. Storage instructions: Store in a cool, dry place. Responsible food company: 3 Bears Foods GmbH, D-81541 Munich List of ingredients: WHOLE GRAIN OAT FLAKES, 23% dried banana pieces, 10% banana flakes, 6% blue poppy seeds, rice flour. May contain traces of SESAME, MILK, CELERY, SOY, EGG and MUSTARD.\n",
      "Product ID: 3802, Description: Our fair trade banana slices were not dried out or fried in fat, but gently dried in the shade of the Sri Lankan sun! That's why they look a bit different than the banana slices you might already know. A little more natural! And that's how they taste: Really juicy, sweet-aromatic and fruity just like Mother Earth created them. Don't be fooled by their natural eco-look, these banana slices are a uniquely delicious snack! Our bananas weren't made with sulphur, sugar or treated with other unnecessary additives!Note on storage:Store in a cool, dry place in the dark.Responsible food company:Unpacked Umthought GmbH, Ernst-Thälmann-Str. 99, 14532 KleinmachnowÖko control body code: DE-ÖKO-003\n",
      "Product ID: 3937, Description: Banana marshmallow dipped in chocolate (31%) The original Casali chocolate bananas will make your taste buds dance. A fruity, delicate banana foam is covered in crunchy chocolate. Each and every one of our chocolate bananas contains only the finest Fairtrade ingredients such as banana pulp and chocolate. You can taste it: The 8% real fruit in the filling makes our chocolate bananas a particularly fruity taste experience, which is wonderfully refined with cocoa from our own roasting. All this without artificial colors and preservatives. In addition, our chocolate bananas are gluten-free by law (Regulation (EC) No. 41/2009 with a gluten content of less than 20 mg/kg). The original Casali chocolate bananas are packed in environmentally friendly, recyclable cardboard packaging. Because naturalness and sustainability are important to us. That, too, is part of a treat full of exotic joie de vivre. Storage instructions: Store at room temperature and in a dry place. Responsible food company: Josef Manner & Comp. AG, 1171 Vienna, Austria List of ingredients: sugar, glucose-fructose syrup, cocoa mass, cocoa butter, banana pulp (8% in the foam), humectant: sorbitol, gelatin, gelling agent: agar-agar, acidifier: citric acid, flavorings, emulsifier: SOYA lecithin, coloring agent: curcumin , WHEAT STARCH. May contain traces of MILK INGREDIENTS.\n",
      "Product ID: 3701, Description: Organic banana-almond bar for in between mealsBanana-almond bar with a high fruit contentNote on storage:Please store in a dry place and protect from heat.Responsible food company:Alnatura GmbH, Mahatma-Gandhi-Straße 7, 64295 DarmstadtEco control body code:DE-ÖKO-001List of ingredients: Dried bananas* 31%, ALMONDS* 27%, raw cane sugar*, banana flakes* 7.5%, honey*, wafers* (WHEAT FLOUR*, potato starch*), invert sugar syrup* *from organic farming. May contain traces of HAZELNUTS, CASHEWS and PISTACHIOS.\n",
      "Product ID: 1926, Description: Granola bars with fruits, peanuts, oats, seeds and peanut butter. Responsible food company: General Mills GmbH, Osterbekstr. 90c, 22083 HamburgList of ingredients: PEANUT BUTTER (19.6%), wholegrain OAT FLAKES (11.7%), raisins (10.9%), chicory root extract, roasted PEANUTS (8.1%), honey, blueberry pieces ( 5.5%), sugar, sunflower seeds (4.4%), pumpkin seeds (4.3%), glucose syrup, palm fat, partially defatted PEANUT FLOUR, WHEAT FLOUR, calcium caseinate (from MILK), humectant (glycerin), rice flour, whey protein isolate (from MILK), vegetable oils (sunflower, cottonseed), salt, dextrose, natural flavor, antioxidant (extracts high in tocopherol, sunflower lecithin). May contain SOY, SESAME and NUTS.\n"
     ]
    }
   ],
   "source": [
    "# Print the top 5 most similar product descriptions\n",
    "for index in top_n_indices:\n",
    "    print(f\"Product ID: {df.iloc[index]['PROD_ID']}, Description: {descriptions[index]}\")"
   ]
  }
 ],
 "metadata": {
  "kernelspec": {
   "display_name": "Python 3",
   "language": "python",
   "name": "python3"
  },
  "language_info": {
   "codemirror_mode": {
    "name": "ipython",
    "version": 3
   },
   "file_extension": ".py",
   "mimetype": "text/x-python",
   "name": "python",
   "nbconvert_exporter": "python",
   "pygments_lexer": "ipython3",
   "version": "3.10.10"
  },
  "orig_nbformat": 4
 },
 "nbformat": 4,
 "nbformat_minor": 2
}
