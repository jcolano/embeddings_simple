{
 "cells": [
  {
   "cell_type": "code",
   "execution_count": 44,
   "metadata": {},
   "outputs": [],
   "source": [
    "import PyPDF2\n",
    "import openai\n",
    "import nltk\n",
    "import re\n",
    "from nltk.tokenize import sent_tokenize\n",
    "\n",
    "import numpy as np\n",
    "import tensorflow_hub as hub\n",
    "from sklearn.neighbors import NearestNeighbors"
   ]
  },
  {
   "cell_type": "code",
   "execution_count": 35,
   "metadata": {},
   "outputs": [
    {
     "name": "stderr",
     "output_type": "stream",
     "text": [
      "[nltk_data] Downloading package punkt to c:\\Python310\\nltk_data...\n",
      "[nltk_data]   Package punkt is already up-to-date!\n"
     ]
    },
    {
     "data": {
      "text/plain": [
       "True"
      ]
     },
     "execution_count": 35,
     "metadata": {},
     "output_type": "execute_result"
    }
   ],
   "source": [
    "# Download the 'punkt' tokenizer from NLTK\n",
    "nltk.download('punkt')"
   ]
  },
  {
   "cell_type": "code",
   "execution_count": 37,
   "metadata": {},
   "outputs": [],
   "source": [
    "with open('../api.key', 'r') as file:\n",
    "    api_key = file.read().strip()\n",
    "\n",
    "openai.api_key = api_key"
   ]
  },
  {
   "cell_type": "code",
   "execution_count": 38,
   "metadata": {},
   "outputs": [],
   "source": [
    "def preprocess(text):\n",
    "    text = text.replace('\\n', ' ')\n",
    "    text = re.sub('\\s+', ' ', text)\n",
    "\n",
    "    # Remove any extra spaces\n",
    "    text = ' '.join(text.split())\n",
    "    \n",
    "    return text"
   ]
  },
  {
   "cell_type": "code",
   "execution_count": 39,
   "metadata": {},
   "outputs": [
    {
     "name": "stdout",
     "output_type": "stream",
     "text": [
      "299\n"
     ]
    }
   ],
   "source": [
    "path = \"C:\\Dropbox\\HARVARD_AI\\e-Book Competing in the age of AI.pdf\" \n",
    "start_page = 1\n",
    "num_pages = 0\n",
    "\n",
    "sentences_list = []\n",
    "\n",
    "reader = PyPDF2.PdfReader(path)\n",
    "\n",
    "num_pages = len(reader.pages)\n",
    "print(num_pages)\n",
    "\n",
    "for i in range(start_page-1, num_pages):\n",
    "    page = reader.pages[i]\n",
    "    text = page.extract_text() \n",
    "    text = preprocess(text) \n",
    "\n",
    "    sentences = sent_tokenize(text)\n",
    "\n",
    "    # Add the sentences to the list\n",
    "    sentences_list.extend(sentences)\n"
   ]
  },
  {
   "cell_type": "code",
   "execution_count": 63,
   "metadata": {},
   "outputs": [],
   "source": [
    "class SemanticSearch:\n",
    "    \n",
    "    def __init__(self):\n",
    "        self.use = hub.load('https://tfhub.dev/google/universal-sentence-encoder/4')\n",
    "        self.fitted = False\n",
    "    \n",
    "    def fit(self, data, batch=100, n_neighbors=5):\n",
    "        self.data = data\n",
    "        self.embeddings = self.get_text_embedding(data, batch=batch)\n",
    "        n_neighbors = min(n_neighbors, len(self.embeddings))\n",
    "        self.nn = NearestNeighbors(n_neighbors=n_neighbors)\n",
    "        self.nn.fit(self.embeddings)\n",
    "        self.fitted = True\n",
    "\n",
    "    def __call__(self, text, return_data=True):\n",
    "        inp_emb = self.use([text])\n",
    "        neighbors = self.nn.kneighbors(inp_emb, return_distance=False)[0]\n",
    "        \n",
    "        if return_data:\n",
    "            return [self.data[i] for i in neighbors]\n",
    "        else:\n",
    "            return neighbors\n",
    "     \n",
    "    def get_text_embedding(self, texts, batch=1000):\n",
    "        embeddings = []\n",
    "        for i in range(0, len(texts), batch):\n",
    "            text_batch = texts[i:(i+batch)]\n",
    "            emb_batch = self.use(text_batch)\n",
    "            embeddings.append(emb_batch)\n",
    "        embeddings = np.vstack(embeddings)\n",
    "        return embeddings"
   ]
  },
  {
   "cell_type": "code",
   "execution_count": 60,
   "metadata": {},
   "outputs": [],
   "source": [
    "sentences_groups = []\n",
    "for i in range(0, len(sentences_list), 5):\n",
    "    group = sentences_list[i:i + 5]\n",
    "    paragraph = ' '.join(group)\n",
    "    sentences_groups.append(paragraph)"
   ]
  },
  {
   "cell_type": "code",
   "execution_count": 64,
   "metadata": {},
   "outputs": [],
   "source": [
    "recommender = SemanticSearch()"
   ]
  },
  {
   "cell_type": "code",
   "execution_count": 65,
   "metadata": {},
   "outputs": [],
   "source": [
    "recommender.fit(sentences_groups)"
   ]
  },
  {
   "cell_type": "code",
   "execution_count": 66,
   "metadata": {},
   "outputs": [],
   "source": [
    "question = \"What is the text about?\""
   ]
  },
  {
   "cell_type": "code",
   "execution_count": 67,
   "metadata": {},
   "outputs": [],
   "source": [
    "def generate_text(prompt, engine=\"text-davinci-003\"):\n",
    "    # openai.api_key = openAI_key\n",
    "    completions = openai.Completion.create(\n",
    "        engine=engine,\n",
    "        prompt=prompt,\n",
    "        max_tokens=512,\n",
    "        n=1,\n",
    "        stop=None,\n",
    "        temperature=0.7,\n",
    "    )\n",
    "    message = completions.choices[0].text\n",
    "    return message\n",
    "\n",
    "def generate_answer(question):\n",
    "    topn_chunks = recommender(question)\n",
    "    prompt = \"\"\n",
    "    prompt += 'search results:\\n\\n'\n",
    "    for c in topn_chunks:\n",
    "        prompt += c + '\\n\\n'\n",
    "        \n",
    "    prompt += \"Instructions: Compose a comprehensive reply to the query using the search results given. \"\\\n",
    "              \"Cite each reference using [ Page Number] notation (every result has this number at the beginning). \"\\\n",
    "              \"Citation should be done at the end of each sentence. If the search results mention multiple subjects \"\\\n",
    "              \"with the same name, create separate answers for each. Only include information found in the results and \"\\\n",
    "              \"don't add any additional information. Make sure the answer is correct and don't output false content. \"\\\n",
    "              \"If the text does not relate to the query, simply state 'Text Not Found in PDF'. Ignore outlier \"\\\n",
    "              \"search results which has nothing to do with the question. Only answer what is asked. The \"\\\n",
    "              \"answer should be short and concise. Answer step-by-step. \\n\\nQuery: {question}\\nAnswer: \"\n",
    "    \n",
    "    prompt += f\"Query: {question}\\nAnswer:\"\n",
    "    answer = generate_text(prompt,\"text-davinci-003\")\n",
    "    return answer"
   ]
  },
  {
   "cell_type": "code",
   "execution_count": 68,
   "metadata": {},
   "outputs": [],
   "source": [
    "answer = generate_answer(question)"
   ]
  },
  {
   "cell_type": "code",
   "execution_count": 69,
   "metadata": {},
   "outputs": [
    {
     "name": "stdout",
     "output_type": "stream",
     "text": [
      " The text is about the factors influencing value creation dynamics, network effects, AI transformation, and data platforms in digital operating models. [1] Value Creation Dynamics are impacted by the network structure of business models, which influences the underlying value or utility of a product or service. [2] Cluster analysis in the form of topic modeling is used to uncover salient topics within and across texts. [3] Microsoft's efforts to transform into an AI company are discussed, and five principles are summarized. [4] Network analysis provides a systematic way to analyze business opportunities as digital networks and AI reshape the economy. [5] Data platforms should be designed in a modular fashion to allow for decentralized innovation, and clear interfaces are key to ensuring modularity. [6]\n"
     ]
    }
   ],
   "source": [
    "print(answer)"
   ]
  },
  {
   "cell_type": "code",
   "execution_count": null,
   "metadata": {},
   "outputs": [],
   "source": []
  }
 ],
 "metadata": {
  "kernelspec": {
   "display_name": "Python 3",
   "language": "python",
   "name": "python3"
  },
  "language_info": {
   "codemirror_mode": {
    "name": "ipython",
    "version": 3
   },
   "file_extension": ".py",
   "mimetype": "text/x-python",
   "name": "python",
   "nbconvert_exporter": "python",
   "pygments_lexer": "ipython3",
   "version": "3.10.10"
  },
  "orig_nbformat": 4
 },
 "nbformat": 4,
 "nbformat_minor": 2
}
